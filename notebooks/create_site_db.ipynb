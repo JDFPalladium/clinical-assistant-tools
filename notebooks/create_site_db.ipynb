{
 "cells": [
  {
   "cell_type": "markdown",
   "id": "ab5cda0d",
   "metadata": {},
   "source": [
    "## Read in CSVs and create sqlite database for testing"
   ]
  },
  {
   "cell_type": "code",
   "execution_count": null,
   "id": "ce2da515",
   "metadata": {},
   "outputs": [],
   "source": [
    "import sqlite3\n",
    "import pandas as pd\n",
    "import glob\n",
    "\n",
    "# Path where all your table CSVs live\n",
    "csv_folder = \"../data/raw/site_tables/\"\n",
    "db_path = \"../data/processed/site_database.sqlite\"\n",
    "\n",
    "# Create SQLite connection\n",
    "conn = sqlite3.connect(db_path)\n",
    "\n",
    "# Loop through all CSV files\n",
    "for file in glob.glob(f\"{csv_folder}/*.csv\"):\n",
    "    table_name = file.split(\"/\")[-1].replace(\".csv\", \"\")\n",
    "    df = pd.read_csv(file)\n",
    "    df.to_sql(table_name, conn, if_exists=\"replace\", index=False)\n",
    "\n",
    "conn.close()\n"
   ]
  },
  {
   "cell_type": "markdown",
   "id": "c69fac5e",
   "metadata": {},
   "source": [
    "## Create patient data parser table mappings"
   ]
  },
  {
   "cell_type": "code",
   "execution_count": null,
   "id": "e2cd9467",
   "metadata": {},
   "outputs": [],
   "source": [
    "import pandas as pd\n",
    "from collections import defaultdict\n",
    "\n",
    "def load_schema_from_csv(csv_path):\n",
    "    df = pd.read_csv(csv_path)\n",
    "    \n",
    "    # Expecting columns like:\n",
    "    # table_name, table_display_name, column_name, column_display_name, column_type\n",
    "    \n",
    "    schema = defaultdict(lambda: {\"display_name\": \"\", \"columns\": {}})\n",
    "    \n",
    "    for _, row in df.iterrows():\n",
    "        table_name = row[\"table_name\"]\n",
    "        table_display = row[\"table_display_name\"]\n",
    "        col_name = row[\"column_name\"]\n",
    "        col_display = row[\"column_display_name\"]\n",
    "        col_type = row[\"column_type\"]\n",
    "        topic = row[\"topic\"]\n",
    "        \n",
    "        schema[table_name][\"display_name\"] = table_display\n",
    "        schema[table_name][\"columns\"][col_name] = {\n",
    "            \"display_name\": col_display,\n",
    "            \"type\": col_type,\n",
    "            \"topic\": topic\n",
    "        }\n",
    "    \n",
    "    return dict(schema)\n",
    "\n",
    "# Example usage:\n",
    "table_mappings = load_schema_from_csv(\"../data/raw/Site Data Dictionary.csv\")\n",
    "\n",
    "# save out table_mappings for later use\n",
    "import json\n",
    "with open(\"../data/processed/table_mappings.json\", \"w\") as f:\n",
    "    json.dump(table_mappings, f, indent=4)"
   ]
  },
  {
   "cell_type": "code",
   "execution_count": 2,
   "id": "9d2596aa",
   "metadata": {},
   "outputs": [
    {
     "name": "stdout",
     "output_type": "stream",
     "text": [
      "{'kenyaemr_etl_etl_clinical_encounter': {'display_name': 'Clinical Encounter', 'columns': {'visit_date': {'display_name': 'Visit Date', 'type': 'date', 'topic': 'Clinical Events & Patient care'}, 'visit_type': {'display_name': 'New or Return visit', 'type': 'varchar', 'topic': 'Clinical Events & Patient care'}, 'therapy_ordered': {'display_name': 'Therapy Ordered', 'type': 'varchar', 'topic': 'Medication & Treatment'}, 'other_therapy_ordered': {'display_name': 'Other therapy ordered', 'type': 'varchar', 'topic': 'Medication & Treatment'}, 'counselling_ordered': {'display_name': 'Counselling ordered', 'type': 'varchar', 'topic': 'Medication & Treatment'}, 'other_counselling_ordered': {'display_name': 'Other counseling ordered', 'type': 'varchar', 'topic': 'Medication & Treatment'}, 'procedures_prescribed': {'display_name': 'Procedures prescribed', 'type': 'int', 'topic': 'Clinical Events & Patient care'}, 'procedures_ordered': {'display_name': 'Procedures ordered', 'type': 'varchar', 'topic': 'Clinical Events & Patient care'}, 'patient_outcome': {'display_name': 'Patient outcome', 'type': 'int', 'topic': 'Clinical Events & Patient care'}, 'diagnosis_category': {'display_name': 'Diagnosis Category', 'type': 'varchar', 'topic': 'Clinical Events & Patient care'}, 'general_examination': {'display_name': 'General Examination', 'type': 'varchar', 'topic': 'General Health & Comorbidities'}, 'date_of_patient_admission': {'display_name': 'Date of Patient Admission', 'type': 'date', 'topic': 'Clinical Events & Patient care'}, 'admission_reason': {'display_name': 'Admission reason', 'type': 'varchar', 'topic': 'Clinical Events & Patient care'}, 'admission_type': {'display_name': 'Admission Type', 'type': 'varchar', 'topic': 'Clinical Events & Patient care'}, 'priority_of_admission': {'display_name': 'Priority of Admission', 'type': 'varchar', 'topic': 'Clinical Events & Patient care'}, 'admission_ward': {'display_name': 'Admission Ward', 'type': 'varchar', 'topic': 'Clinical Events & Patient care'}, 'hospital_stay': {'display_name': 'Hosptial Stay', 'type': 'varchar', 'topic': 'Clinical Events & Patient care'}}}, 'kenyaemr_etl_etl_ccc_defaulter_tracing': {'display_name': 'Defaulter Tracing', 'columns': {'visit_date': {'display_name': 'Visit Date', 'type': 'date', 'topic': 'Clinical Events & Patient care'}, 'tracing_type': {'display_name': 'Tracing Type', 'type': 'int', 'topic': 'Clinical Events & Patient care'}, 'missed_appointment_date': {'display_name': 'Missed Appointment Date', 'type': 'date', 'topic': 'Medication & Treatment'}, 'reason_for_missed_appointment': {'display_name': 'Reason for Missed Appointment', 'type': 'int', 'topic': 'Medication & Treatment'}, 'non_coded_missed_appointment_reason': {'display_name': 'Non-Coded Reason for Missed Appointment', 'type': 'varchar', 'topic': 'Medication & Treatment'}, 'tracing_outcome': {'display_name': 'Tracing Outcome', 'type': 'int', 'topic': 'Clinical Events & Patient care'}, 'comments': {'display_name': 'came for refill', 'type': 'varchar', 'topic': 'Medication & Treatment'}}}, 'kenyaemr_etl_etl_drug_event': {'display_name': 'Drug Event', 'columns': {'date_started': {'display_name': 'Date Started', 'type': 'date', 'topic': 'Clinical Events & Patient care'}, 'program': {'display_name': 'Program', 'type': 'varchar', 'topic': 'Clinical Events & Patient care'}, 'regimen': {'display_name': 'Regimen', 'type': 'varchar', 'topic': 'Medication & Treatment'}, 'regimen_name': {'display_name': 'Regimen Name', 'type': 'varchar', 'topic': 'Medication & Treatment'}, 'regimen_line': {'display_name': 'Regimen Line', 'type': 'varchar', 'topic': 'Medication & Treatment'}, 'discontinued': {'display_name': 'Discontinued', 'type': 'int', 'topic': 'Medication & Treatment'}, 'regimen_discontinued': {'display_name': 'Regimen Discontinued', 'type': 'varchar', 'topic': 'Medication & Treatment'}, 'regimen_stopped': {'display_name': 'Regimen Stopped', 'type': 'int', 'topic': 'Medication & Treatment'}, 'date_discontinued': {'display_name': 'Date Discontinued', 'type': 'date', 'topic': 'Medication & Treatment'}, 'reason_discontinued': {'display_name': 'Reason Discontinued', 'type': 'int', 'topic': 'Medication & Treatment'}, 'reason_discontinued_other': {'display_name': 'Reason Discontinued Other', 'type': 'varchar', 'topic': 'Medication & Treatment'}}}, 'kenyaemr_etl_etl_drug_order': {'display_name': 'Drug Order', 'columns': {'visit_date': {'display_name': 'Visit Date', 'type': 'date', 'topic': 'Clinical Events & Patient care'}, 'urgency': {'display_name': 'Urgency', 'type': 'varchar', 'topic': 'Clinical Events & Patient care'}, 'drug_name': {'display_name': 'Drug Name', 'type': 'varchar', 'topic': 'Medication & Treatment'}, 'frequency': {'display_name': 'Frequency', 'type': 'varchar', 'topic': 'Medication & Treatment'}, 'enc_name': {'display_name': 'Drug Order', 'type': 'varchar', 'topic': 'Medication & Treatment'}, 'dose': {'display_name': 'Dose', 'type': 'int', 'topic': 'Medication & Treatment'}, 'dose_units': {'display_name': 'Dose Units', 'type': 'int', 'topic': 'Medication & Treatment'}, 'quantity': {'display_name': 'Quantity', 'type': 'int', 'topic': 'Clinical Events & Patient care'}, 'quantity_units': {'display_name': 'Quantity Units', 'type': 'int', 'topic': 'Clinical Events & Patient care'}, 'dosing_instructions': {'display_name': 'Dosing Instructions', 'type': 'varchar', 'topic': 'Clinical Events & Patient care'}, 'duration': {'display_name': 'Duration', 'type': 'int', 'topic': 'Clinical Events & Patient care'}, 'instructions': {'display_name': 'Instructions', 'type': 'varchar', 'topic': 'Clinical Events & Patient care'}}}, 'kenyaemr_etl_etl_enhanced_adherence': {'display_name': 'Enhanced Adherence Counseling', 'columns': {'visit_date': {'display_name': 'Visit Date', 'type': 'date', 'topic': nan}, 'first_session_date': {'display_name': 'First Session Date', 'type': 'date', 'topic': 'Clinical Events & Patient care'}, 'pill_count': {'display_name': 'Pill Count', 'type': 'int', 'topic': 'Medication & Treatment'}, 'MMAS4_1_forgets_to_take_meds': {'display_name': 'Forgets to take meds', 'type': 'varchar', 'topic': 'Medication & Treatment'}, 'MMAS4_2_careless_taking_meds': {'display_name': 'Careless taking meds', 'type': 'varchar', 'topic': 'Medication & Treatment'}, 'MMAS4_3_stops_on_reactive_meds': {'display_name': 'Stops on reactive meds', 'type': 'varchar', 'topic': 'Medication & Treatment'}, 'MMAS4_4_stops_meds_on_feeling_good': {'display_name': 'Stops meds on feeling good', 'type': 'varchar', 'topic': 'Medication & Treatment'}, 'MMSA8_1_took_meds_yesterday': {'display_name': 'Took meds yesterday', 'type': 'varchar', 'topic': 'Medication & Treatment'}, 'MMSA8_2_stops_meds_on_controlled_symptoms': {'display_name': 'Stops meds on controlled symptoms', 'type': 'varchar', 'topic': 'Medication & Treatment'}, 'MMSA8_3_struggles_to_comply_tx_plan': {'display_name': 'Struggles to comply tx plan', 'type': 'varchar', 'topic': 'Clinical Events & Patient care'}, 'MMSA8_4_struggles_remembering_taking_meds': {'display_name': 'Struggles remembering to take meds', 'type': 'varchar', 'topic': 'Medication & Treatment'}, 'arv_adherence': {'display_name': 'ARV Adherence', 'type': 'varchar', 'topic': 'Medication & Treatment'}, 'has_vl_results': {'display_name': 'Has Viral Load results', 'type': 'varchar', 'topic': 'Laboratory & Diagnostics'}, 'vl_results_suppressed': {'display_name': 'Viral Load Suppressed', 'type': 'varchar', 'topic': 'Laboratory & Diagnostics'}, 'vl_results_feeling': {'display_name': 'Feelings about viral load', 'type': 'varchar', 'topic': 'Psychosocial & Behavioral Risks'}, 'cause_of_high_vl': {'display_name': 'Cause of high viral load', 'type': 'varchar', 'topic': 'Psychosocial & Behavioral Risks'}, 'way_forward': {'display_name': 'Way forward', 'type': 'varchar', 'topic': 'Psychosocial & Behavioral Risks'}, 'patient_hiv_knowledge': {'display_name': 'Patient knowledge of HIV', 'type': 'varchar', 'topic': 'Psychosocial & Behavioral Risks'}, 'patient_drugs_uptake': {'display_name': 'Uptake of drugs', 'type': 'varchar', 'topic': 'Medication & Treatment'}, 'patient_drugs_reminder_tools': {'display_name': 'Drug reminder tools', 'type': 'varchar', 'topic': 'Medication & Treatment'}, 'patient_drugs_uptake_during_travels': {'display_name': 'Drug uptake during travel', 'type': 'varchar', 'topic': 'Medication & Treatment'}, 'patient_drugs_side_effects_response': {'display_name': 'Discussed how to respond to drug side effects', 'type': 'varchar', 'topic': 'Medication & Treatment'}, 'patient_drugs_uptake_most_difficult_times': {'display_name': 'Most difficult time for drug uptake', 'type': 'varchar', 'topic': 'Medication & Treatment'}, 'patient_drugs_daily_uptake_feeling': {'display_name': 'Feeling about taking drugs daily', 'type': 'varchar', 'topic': 'Psychosocial & Behavioral Risks'}, 'patient_ambitions': {'display_name': 'Patient Ambitions', 'type': 'varchar', 'topic': 'Psychosocial & Behavioral Risks'}, 'patient_has_people_to_talk': {'display_name': 'Has people to talk to', 'type': 'varchar', 'topic': 'Psychosocial & Behavioral Risks'}, 'patient_enlisting_social_support': {'display_name': 'Enlisting social support', 'type': 'varchar', 'topic': 'Psychosocial & Behavioral Risks'}, 'patient_income_sources': {'display_name': 'Income sources', 'type': 'varchar', 'topic': 'Psychosocial & Behavioral Risks'}, 'patient_challenges_reaching_clinic': {'display_name': 'Challenges reaching clinic', 'type': 'varchar', 'topic': 'Psychosocial & Behavioral Risks'}, 'patient_worried_of_accidental_disclosure': {'display_name': 'Patient worried of accidental disclosure', 'type': 'varchar', 'topic': 'Psychosocial & Behavioral Risks'}, 'patient_treated_differently': {'display_name': 'Patient treated differently', 'type': 'varchar', 'topic': 'Psychosocial & Behavioral Risks'}, 'stigma_hinders_adherence': {'display_name': 'Stigma hinders adherence', 'type': 'varchar', 'topic': 'Psychosocial & Behavioral Risks'}, 'patient_tried_faith_healing': {'display_name': 'Tried faith healing', 'type': 'varchar', 'topic': 'Psychosocial & Behavioral Risks'}, 'patient_adherence_improved': {'display_name': 'Adherence improved', 'type': 'varchar', 'topic': 'Medication & Treatment'}, 'patient_doses_missed': {'display_name': 'Doses missed', 'type': 'varchar', 'topic': 'Medication & Treatment'}, 'review_and_barriers_to_adherence': {'display_name': 'Barriers to adherence', 'type': 'varchar', 'topic': 'Medication & Treatment'}, 'other_referrals': {'display_name': 'Other referrals', 'type': 'varchar', 'topic': 'Clinical Events & Patient care'}, 'appointments_honoured': {'display_name': 'Appointments honored', 'type': 'varchar', 'topic': 'Clinical Events & Patient care'}, 'referral_experience': {'display_name': 'Referral experience', 'type': 'varchar', 'topic': 'Clinical Events & Patient care'}, 'home_visit_benefit': {'display_name': 'Benefit from home visit', 'type': 'varchar', 'topic': 'Clinical Events & Patient care'}, 'adherence_plan': {'display_name': 'Adherence plan', 'type': 'varchar', 'topic': 'Medication & Treatment'}}}, 'kenyaemr_etl_etl_hiv_enrollment': {'display_name': 'HIV Enrollment', 'columns': {'visit_date': {'display_name': 'Visit Date', 'type': 'date', 'topic': 'Clinical Events & Patient care'}, 'patient_type': {'display_name': 'Patient Source', 'type': 'int', 'topic': nan}, 'date_first_enrolled_in_care': {'display_name': 'Date first enrolled in care', 'type': 'date', 'topic': 'Clinical Events & Patient care'}, 'transfer_in_date': {'display_name': 'Transfer-in Date', 'type': 'date', 'topic': 'Clinical Events & Patient care'}, 'date_confirmed_hiv_positive': {'display_name': 'Date confirmed HIV positive', 'type': 'date', 'topic': 'Clinical Events & Patient care'}, 'previous_regimen': {'display_name': 'Previous Regimen', 'type': 'varchar', 'topic': 'Medication & Treatment'}, 'arv_status': {'display_name': 'ARV Status', 'type': 'int', 'topic': 'Clinical Events & Patient care'}, 'ever_on_pmtct': {'display_name': 'Ever on PMTCT', 'type': 'int', 'topic': 'Clinical Events & Patient care'}, 'ever_on_pep': {'display_name': 'Ever on PEP', 'type': 'int', 'topic': 'Clinical Events & Patient care'}, 'ever_on_prep': {'display_name': 'Ever on PrEP', 'type': 'int', 'topic': 'Clinical Events & Patient care'}, 'ever_on_haart': {'display_name': 'Ever on Highly Active ART', 'type': 'int', 'topic': 'Clinical Events & Patient care'}, 'cd4_test_result': {'display_name': 'CD4 test result', 'type': 'int', 'topic': 'Laboratory & Diagnostics'}, 'cd4_test_date': {'display_name': 'CD4 test date', 'type': 'date', 'topic': 'Laboratory & Diagnostics'}, 'viral_load_test_result': {'display_name': 'Viral Load test result', 'type': 'int', 'topic': 'Laboratory & Diagnostics'}, 'viral_load_test_date': {'display_name': 'Viral load test date', 'type': 'date', 'topic': 'Laboratory & Diagnostics'}, 'who_stage': {'display_name': 'WHO stage', 'type': 'int', 'topic': 'Clinical Events & Patient care'}}}, 'kenyaemr_etl_etl_laboratory_extract': {'display_name': 'Laboratory Testing Results', 'columns': {'visit_date': {'display_name': 'Visit Date', 'type': 'date', 'topic': nan}, 'urgency': {'display_name': 'Urgency', 'type': 'varchar', 'topic': nan}, 'order_reason': {'display_name': 'Order Reason', 'type': 'int', 'topic': 'Clinical Events & Patient care'}, 'order_test_name': {'display_name': 'Order test name', 'type': 'varchar', 'topic': 'Laboratory & Diagnostics'}, 'result_name': {'display_name': 'Result name', 'type': 'varchar', 'topic': 'Laboratory & Diagnostics'}, 'date_test_result_received': {'display_name': 'Date test result received', 'type': 'date', 'topic': 'Laboratory & Diagnostics'}}}, 'kenyaemr_etl_etl_patient_demographics': {'display_name': 'Patient Demographic Information', 'columns': {'Gender': {'display_name': 'Sex', 'type': 'varchar', 'topic': 'General Health & Comorbidities'}, 'DOB': {'display_name': 'DOB', 'type': 'date', 'topic': 'General Health & Comorbidities'}, 'occupation': {'display_name': 'Occupation', 'type': 'varchar', 'topic': 'General Health & Comorbidities'}, 'marital_status': {'display_name': 'Marital Status', 'type': 'varchar', 'topic': 'General Health & Comorbidities'}, 'education_level': {'display_name': 'Education Level', 'type': 'varchar', 'topic': 'General Health & Comorbidities'}}}, 'kenyaemr_etl_etl_patient_hiv_followup': {'display_name': 'HIV Clinical Touchpoints', 'columns': {'visit_date': {'display_name': 'Visit Date', 'type': 'date', 'topic': nan}, 'visit_scheduled': {'display_name': 'Visit Scheduled', 'type': 'int', 'topic': 'Clinical Events & Patient care'}, 'who_stage': {'display_name': 'Who Stage', 'type': 'int', 'topic': 'Clinical Events & Patient care'}, 'who_stage_associated_oi': {'display_name': 'Who_Stage_Associated Oi', 'type': 'varchar', 'topic': 'Clinical Events & Patient care'}, 'clinical_notes': {'display_name': 'Clinical Notes', 'type': 'varchar', 'topic': 'General Health & Comorbidities'}, 'on_anti_tb_drugs': {'display_name': 'On_Anti_Tb Drugs', 'type': 'int', 'topic': 'Medication & Treatment'}, 'on_ipt': {'display_name': 'On Ipt', 'type': 'int', 'topic': 'Medication & Treatment'}, 'ever_on_ipt': {'display_name': 'Ever_On Ipt', 'type': 'int', 'topic': 'Medication & Treatment'}, 'cough': {'display_name': 'Cough', 'type': 'int', 'topic': 'Clinical Events & Patient care'}, 'fever': {'display_name': 'Fever', 'type': 'int', 'topic': 'Clinical Events & Patient care'}, 'weight_loss_poor_gain': {'display_name': 'Weight_Loss_Poor Gain', 'type': 'int', 'topic': 'Clinical Events & Patient care'}, 'night_sweats': {'display_name': 'Night Sweats', 'type': 'int', 'topic': 'Clinical Events & Patient care'}, 'tb_case_contact': {'display_name': 'Tb_Case Contact', 'type': 'int', 'topic': 'Clinical Events & Patient care'}, 'lethargy': {'display_name': 'Lethargy', 'type': 'int', 'topic': 'Clinical Events & Patient care'}, 'clinical_tb_diagnosis': {'display_name': 'Clinical_Tb Diagnosis', 'type': 'int', 'topic': 'Clinical Events & Patient care'}, 'contact_invitation': {'display_name': 'Contact Invitation', 'type': 'int', 'topic': 'Clinical Events & Patient care'}, 'evaluated_for_ipt': {'display_name': 'Evaluated_For Ipt', 'type': 'int', 'topic': 'Clinical Events & Patient care'}, 'has_chronic_illnesses_cormobidities': {'display_name': 'Has_Chronic_Illnesses Cormobidities', 'type': 'int', 'topic': 'General Health & Comorbidities'}, 'has_adverse_drug_reaction': {'display_name': 'Has_Adverse_Drug Reaction', 'type': 'int', 'topic': 'Medication & Treatment'}, 'pregnancy_status': {'display_name': 'Pregnancy Status', 'type': 'int', 'topic': 'Reproductive & Sexual Health'}, 'breastfeeding': {'display_name': 'Breastfeeding', 'type': 'int', 'topic': 'Reproductive & Sexual Health'}, 'wants_pregnancy': {'display_name': 'Wants Pregnancy', 'type': 'int', 'topic': 'Reproductive & Sexual Health'}, 'expected_delivery_date': {'display_name': 'Expected_Delivery Date', 'type': 'date', 'topic': 'Reproductive & Sexual Health'}, 'ever_had_menses': {'display_name': 'Ever_Had Menses', 'type': 'int', 'topic': 'Reproductive & Sexual Health'}, 'last_menstrual_period': {'display_name': 'Last_Menstrual Period', 'type': 'date', 'topic': 'Clinical Events & Patient care'}, 'menopausal': {'display_name': 'Menopausal', 'type': 'int', 'topic': 'Reproductive & Sexual Health'}, 'gravida': {'display_name': 'Gravida', 'type': 'int', 'topic': 'Reproductive & Sexual Health'}, 'parity': {'display_name': 'Parity', 'type': 'int', 'topic': 'Reproductive & Sexual Health'}, 'full_term_pregnancies': {'display_name': 'Full_Term Pregnancies', 'type': 'int', 'topic': 'Reproductive & Sexual Health'}, 'abortion_miscarriages': {'display_name': 'Abortion Miscarriages', 'type': 'int', 'topic': 'Reproductive & Sexual Health'}, 'family_planning_status': {'display_name': 'Family_Planning Status', 'type': 'int', 'topic': 'Reproductive & Sexual Health'}, 'family_planning_method': {'display_name': 'Family_Planning Method', 'type': 'int', 'topic': 'Reproductive & Sexual Health'}, 'reason_not_using_family_planning': {'display_name': 'Reason_Not_Using_Family Planning', 'type': 'int', 'topic': 'Reproductive & Sexual Health'}, 'tb_status': {'display_name': 'Tb Status', 'type': 'int', 'topic': 'Medication & Treatment'}, 'started_anti_TB': {'display_name': 'Started_Anti Tb', 'type': 'int', 'topic': 'Medication & Treatment'}, 'tb_rx_date': {'display_name': 'Tb_Rx Date', 'type': 'date', 'topic': 'Medication & Treatment'}, 'general_examination': {'display_name': 'General Examination', 'type': 'varchar', 'topic': nan}, 'system_examination': {'display_name': 'System Examination', 'type': 'int', 'topic': 'General Health & Comorbidities'}, 'skin_findings': {'display_name': 'Skin Findings', 'type': 'int', 'topic': 'General Health & Comorbidities'}, 'eyes_findings': {'display_name': 'Eyes Findings', 'type': 'int', 'topic': 'General Health & Comorbidities'}, 'ent_findings': {'display_name': 'Ent Findings', 'type': 'int', 'topic': 'General Health & Comorbidities'}, 'chest_findings': {'display_name': 'Chest Findings', 'type': 'int', 'topic': 'General Health & Comorbidities'}, 'cvs_findings': {'display_name': 'Cvs Findings', 'type': 'int', 'topic': 'General Health & Comorbidities'}, 'abdomen_findings': {'display_name': 'Abdomen Findings', 'type': 'int', 'topic': 'General Health & Comorbidities'}, 'cns_findings': {'display_name': 'Cns Findings', 'type': 'int', 'topic': 'General Health & Comorbidities'}, 'genitourinary_findings': {'display_name': 'Genitourinary Findings', 'type': 'int', 'topic': 'General Health & Comorbidities'}, 'prophylaxis_given': {'display_name': 'Prophylaxis given', 'type': 'int', 'topic': 'General Health & Comorbidities'}, 'ctx_adherence': {'display_name': 'Ctx Adherence', 'type': 'int', 'topic': 'Medication & Treatment'}, 'ctx_dispensed': {'display_name': 'Ctx Dispensed', 'type': 'int', 'topic': 'Medication & Treatment'}, 'dapsone_adherence': {'display_name': 'Dapsone Adherence', 'type': 'int', 'topic': 'Medication & Treatment'}, 'dapsone_dispensed': {'display_name': 'Dapsone Dispensed', 'type': 'int', 'topic': 'Medication & Treatment'}, 'arv_adherence': {'display_name': 'Arv Adherence', 'type': 'int', 'topic': nan}, 'poor_arv_adherence_reason': {'display_name': 'Poor_Arv_Adherence Reason', 'type': 'int', 'topic': 'Medication & Treatment'}, 'poor_arv_adherence_reason_other': {'display_name': 'Poor_Arv_Adherence_Reason Other', 'type': 'varchar', 'topic': 'Medication & Treatment'}, 'pwp_disclosure': {'display_name': 'Pwp Disclosure', 'type': 'int', 'topic': 'Psychosocial & Behavioral Risks'}, 'pwp_pead_disclosure': {'display_name': 'Pwp_Pead Disclosure', 'type': 'int', 'topic': 'Psychosocial & Behavioral Risks'}, 'pwp_partner_tested': {'display_name': 'Pwp_Partner Tested', 'type': 'int', 'topic': 'Laboratory & Diagnostics'}, 'condom_provided': {'display_name': 'Condom Provided', 'type': 'int', 'topic': 'Laboratory & Diagnostics'}, 'substance_abuse_screening': {'display_name': 'Substance_Abuse Screening', 'type': 'int', 'topic': 'Laboratory & Diagnostics'}, 'screened_for_sti': {'display_name': 'Screened_For Sti', 'type': 'int', 'topic': 'Laboratory & Diagnostics'}, 'cacx_screening': {'display_name': 'Cacx Screening', 'type': 'int', 'topic': 'Laboratory & Diagnostics'}, 'sti_partner_notification': {'display_name': 'Sti_Partner Notification', 'type': 'int', 'topic': 'Clinical Events & Patient care'}, 'experienced_gbv': {'display_name': 'Experienced Gbv', 'type': 'int', 'topic': 'Psychosocial & Behavioral Risks'}, 'depression_screening': {'display_name': 'Depression Screening', 'type': 'int', 'topic': 'Psychosocial & Behavioral Risks'}, 'refill_date': {'display_name': 'Refill Date', 'type': 'date', 'topic': 'Medication & Treatment'}, 'differentiated_care': {'display_name': 'Differentiated Care', 'type': 'int', 'topic': 'Clinical Events & Patient care'}}}, 'kenyaemr_etl_etl_patient_triage': {'display_name': 'Patient Triage', 'columns': {'visit_date': {'display_name': 'Visit Date', 'type': 'date', 'topic': nan}, 'visit_reason': {'display_name': 'Visit Reason', 'type': 'varchar', 'topic': 'Clinical Events & Patient care'}, 'complaint_today': {'display_name': 'Complaint ', 'type': 'varchar', 'topic': 'Clinical Events & Patient care'}, 'complaint_duration': {'display_name': 'Complaint Duration', 'type': 'int', 'topic': 'Clinical Events & Patient care'}, 'weight': {'display_name': 'Weight ', 'type': 'int', 'topic': 'General Health & Comorbidities'}, 'height': {'display_name': 'Height', 'type': 'int', 'topic': 'General Health & Comorbidities'}, 'systolic_pressure': {'display_name': 'Systolic Pressure', 'type': 'int', 'topic': 'General Health & Comorbidities'}, 'diastolic_pressure': {'display_name': 'Diastolic Pressure', 'type': 'int', 'topic': 'General Health & Comorbidities'}, 'temperature': {'display_name': 'Temperature', 'type': 'int', 'topic': 'General Health & Comorbidities'}, 'pulse_rate': {'display_name': 'Pulse Rate', 'type': 'int', 'topic': 'General Health & Comorbidities'}, 'respiratory_rate': {'display_name': 'Respiratory Rate', 'type': 'int', 'topic': 'General Health & Comorbidities'}, 'oxygen_saturation': {'display_name': 'Oxygen Saturation', 'type': 'int', 'topic': 'General Health & Comorbidities'}, 'muac': {'display_name': 'Muac', 'type': 'int', 'topic': 'General Health & Comorbidities'}, 'z_score_absolute': {'display_name': 'Z Score Absolute', 'type': 'int', 'topic': 'General Health & Comorbidities'}, 'z_score': {'display_name': 'Z Score', 'type': 'int', 'topic': 'General Health & Comorbidities'}, 'nutritional_status': {'display_name': 'Nutritional Status', 'type': 'int', 'topic': 'General Health & Comorbidities'}, 'nutritional_intervention': {'display_name': 'Nutritional Intervention', 'type': 'int', 'topic': 'General Health & Comorbidities'}, 'last_menstrual_period': {'display_name': 'Last Menstrual Period', 'type': 'date', 'topic': 'Clinical Events & Patient care'}, 'hpv_vaccinated': {'display_name': 'HPV Vaccinated', 'type': 'int', 'topic': 'General Health & Comorbidities'}}}, 'kenyaemr_etl_etl_tb_screening': {'display_name': 'TB Screening ', 'columns': {'visit_date': {'display_name': 'Visit Date', 'type': 'date', 'topic': nan}, 'cough_for_2wks_or_more': {'display_name': 'Cough for 2 weeks or More', 'type': 'int', 'topic': 'General Health & Comorbidities'}, 'confirmed_tb_contact': {'display_name': 'Confirmed TB Contact', 'type': 'int', 'topic': 'Medication & Treatment'}, 'fever_for_2wks_or_more': {'display_name': 'Fever for 2 weeks or more', 'type': 'int', 'topic': 'General Health & Comorbidities'}, 'noticeable_weight_loss': {'display_name': 'Noticeable weight loss', 'type': 'int', 'topic': 'General Health & Comorbidities'}, 'night_sweat_for_2wks_or_more': {'display_name': 'Night Sweats for 2 weeks or more', 'type': 'int', 'topic': 'General Health & Comorbidities'}, 'lethargy': {'display_name': 'Lethargy', 'type': 'int', 'topic': 'General Health & Comorbidities'}, 'spatum_smear_result': {'display_name': 'Spatum smear result', 'type': 'int', 'topic': 'Laboratory & Diagnostics'}, 'chest_xray_result': {'display_name': 'Chest xray result', 'type': 'int', 'topic': 'Laboratory & Diagnostics'}, 'genexpert_result': {'display_name': 'Genexpert result', 'type': 'int', 'topic': 'Laboratory & Diagnostics'}, 'referral': {'display_name': 'Referral referral', 'type': 'int', 'topic': 'Clinical Events & Patient care'}, 'clinical_tb_diagnosis': {'display_name': 'Clinical tb diagnosis', 'type': 'int', 'topic': 'Clinical Events & Patient care'}, 'resulting_tb_status': {'display_name': 'Resulting tb status', 'type': 'int', 'topic': 'Laboratory & Diagnostics'}, 'contact_invitation': {'display_name': 'Contact invitation', 'type': 'int', 'topic': nan}, 'evaluated_for_ipt': {'display_name': 'Evaluated for IPT', 'type': 'int', 'topic': 'Clinical Events & Patient care'}, 'started_anti_TB': {'display_name': 'Started anti TB', 'type': 'int', 'topic': 'Medication & Treatment'}, 'tb_treatment_start_date': {'display_name': 'Tb_Treatment_Start date', 'type': 'date', 'topic': 'Clinical Events & Patient care'}, 'tb_prophylaxis': {'display_name': 'TB Prophylaxis', 'type': 'int', 'topic': 'General Health & Comorbidities'}, 'notes': {'display_name': 'Notes notes', 'type': 'int', 'topic': 'General Health & Comorbidities'}}}, 'openmrs_encounter_diagnosis': {'display_name': 'Diagnoses During Clinical Encounters', 'columns': {'diagnosis_non_coded': {'display_name': 'Diagnosis', 'type': 'varchar', 'topic': 'Clinical Events & Patient care'}, 'certainty': {'display_name': 'Certainty', 'type': 'varchar', 'topic': 'Clinical Events & Patient care'}, 'dx_rank': {'display_name': 'Diagnosis Rank', 'type': 'int', 'topic': 'Clinical Events & Patient care'}, 'voided': {'display_name': 'Voided', 'type': 'int', 'topic': 'Clinical Events & Patient care'}, 'date_voided': {'display_name': 'Date Voided', 'type': 'date', 'topic': 'Clinical Events & Patient care'}, 'void_reason': {'display_name': 'Void Reason', 'type': 'varchar', 'topic': 'Clinical Events & Patient care'}}}}\n"
     ]
    }
   ],
   "source": [
    "print(table_mappings)"
   ]
  },
  {
   "cell_type": "markdown",
   "id": "f4d69048",
   "metadata": {},
   "source": [
    "## Create patient summary data parsing"
   ]
  },
  {
   "cell_type": "code",
   "execution_count": null,
   "id": "1eca17c0",
   "metadata": {},
   "outputs": [],
   "source": [
    "import pandas as pd\n",
    "from collections import defaultdict\n",
    "\n",
    "def load_schema_from_csv(csv_path):\n",
    "    df = pd.read_csv(csv_path)\n",
    "    \n",
    "    # Expecting columns like:\n",
    "    # table_name, table_display_name, column_name, column_display_name, column_type\n",
    "    \n",
    "    schema = defaultdict(lambda: {\"display_name\": \"\", \"columns\": {}})\n",
    "    \n",
    "    for _, row in df.iterrows():\n",
    "        table_name = row[\"table_name\"]\n",
    "        table_display = row[\"table_display_name\"]\n",
    "        col_name = row[\"column_name\"]\n",
    "        col_display = row[\"column_display_name\"]\n",
    "        col_type = row[\"column_type\"]\n",
    "        \n",
    "        schema[table_name][\"display_name\"] = table_display\n",
    "        schema[table_name][\"columns\"][col_name] = {\n",
    "            \"display_name\": col_display,\n",
    "            \"type\": col_type\n",
    "        }\n",
    "    \n",
    "    return dict(schema)\n",
    "\n",
    "# Example usage:\n",
    "table_mappings = load_schema_from_csv(\"../data/raw/Site Data Dictionary.csv\")\n",
    "\n",
    "# save out table_mappings for later use\n",
    "import json\n",
    "with open(\"../data/processed/table_mappings.json\", \"w\") as f:\n",
    "    json.dump(table_mappings, f, indent=4)"
   ]
  },
  {
   "cell_type": "markdown",
   "id": "61503494",
   "metadata": {},
   "source": [
    "### Parking lot"
   ]
  },
  {
   "cell_type": "code",
   "execution_count": null,
   "id": "d1acea06",
   "metadata": {},
   "outputs": [],
   "source": [
    "import dateparser\n",
    "import dateparser.search\n",
    "from datetime import datetime\n",
    "from dateutil.relativedelta import relativedelta\n",
    "\n",
    "def describe_relative_date(dt, reference=None):\n",
    "    if reference is None:\n",
    "        reference = datetime.now()\n",
    "\n",
    "    delta = relativedelta(reference, dt)\n",
    "\n",
    "    if delta.years > 0:\n",
    "        return f\"{delta.years} year{'s' if delta.years > 1 else ''} ago\"\n",
    "    elif delta.months > 0:\n",
    "        return f\"{delta.months} month{'s' if delta.months > 1 else ''} ago\"\n",
    "    elif delta.days >= 7:\n",
    "        weeks = delta.days // 7\n",
    "        return f\"{weeks} week{'s' if weeks > 1 else ''} ago\"\n",
    "    elif delta.days > 0:\n",
    "        return f\"{delta.days} day{'s' if delta.days > 1 else ''} ago\"\n",
    "    else:\n",
    "        return \"today\""
   ]
  },
  {
   "cell_type": "code",
   "execution_count": 55,
   "id": "7d4cef0f",
   "metadata": {},
   "outputs": [],
   "source": [
    "import pandas as pd\n",
    "import json\n",
    "\n",
    "def patient_data_to_json(patient_id, conn, table_mappings, tables_to_include=None):\n",
    "    \"\"\"\n",
    "    Pull all available data for one patient across multiple tables,\n",
    "    filter/rename columns using the table_mappings, and return as JSON.\n",
    "    \n",
    "    Args:\n",
    "        patient_id (str): The patient identifier to query.\n",
    "        conn: Database connection object (e.g., SQLAlchemy or sqlite3).\n",
    "        table_mappings (dict): Metadata dict with table and column mappings.\n",
    "    \n",
    "    Returns:\n",
    "        str: JSON string with patient data.\n",
    "    \"\"\"\n",
    "\n",
    "    patient_dict = {}\n",
    "\n",
    "    if tables_to_include is not None:\n",
    "        table_mappings = {k: v for k, v in table_mappings.items() if k in tables_to_include}\n",
    "\n",
    "    for table_name, mapping in table_mappings.items():\n",
    "        columns = list(mapping[\"columns\"].keys())\n",
    "        query = f\"SELECT {', '.join(columns)} FROM {table_name} WHERE patient_id = ?\"\n",
    "        df = pd.read_sql(query, conn, params=(patient_id,))\n",
    "\n",
    "        if df.empty:\n",
    "            continue  # skip tables with no rows\n",
    "\n",
    "        # Build rename mapping: {column_name: display_name}\n",
    "        rename_map = {col: col_info[\"display_name\"] for col, col_info in mapping[\"columns\"].items()}\n",
    "        df = df.rename(columns=rename_map)\n",
    "\n",
    "        # drop columns that are entirely null\n",
    "        df = df.dropna(axis=1, how=\"all\")\n",
    "\n",
    "        for col in df.columns:\n",
    "            if \"date\" in col.lower():\n",
    "                df[col] = df[col].apply(lambda x: describe_relative_date(pd.to_datetime(x)) if pd.notnull(x) else x)\n",
    "\n",
    "        # convert to dict format\n",
    "        records = df.to_dict(orient=\"records\")\n",
    "\n",
    "        # single row table → dict\n",
    "        display_name = mapping[\"display_name\"]\n",
    "        if len(records) == 1:\n",
    "            patient_dict[display_name] = records[0]\n",
    "        else:\n",
    "            patient_dict[display_name] = records\n",
    "\n",
    "    # convert to JSON\n",
    "    return json.dumps(patient_dict, indent=2, default=str)\n"
   ]
  },
  {
   "cell_type": "code",
   "execution_count": null,
   "id": "5f2b01f7",
   "metadata": {},
   "outputs": [],
   "source": [
    "conn = sqlite3.connect(\"../data/processed/site_database.sqlite\")\n",
    "patient_json = patient_data_to_json(3277, conn, table_mappings)\n",
    "print(patient_json)"
   ]
  },
  {
   "cell_type": "code",
   "execution_count": null,
   "id": "c0b0a83e",
   "metadata": {},
   "outputs": [],
   "source": [
    "table_descriptions = {\n",
    "    \"kenyaemr_etl_etl_clinical_encounter\": {\"description\": \"Patient diagnoses and prescriptions during clinical encounters.\"},\n",
    "    \"kenyaemr_etl_etl_ccc_defaulter_tracing\": {\"description\": \"Patient defaulter tracing information.\"},\n",
    "    \"kenyaemr_etl_etl_drug_event\": {\"description\": \"Drug regimens and history.\"},\n",
    "    \"kenyaemr_etl_etl_drug_order\": {\"description\": \"Drug orders and prescriptions.\"},\n",
    "    \"kenyaemr_etl_etl_enhanced_adherence\": {\"description\": \"Information on support provided to patients with adherence issues.\"},\n",
    "    \"kenyaemr_etl_etl_hiv_enrollment\": {\"description\": \"Information about patient enrollment in HIV treatment.\"},\n",
    "    \"kenyaemr_etl_etl_laboratory_extract\": {\"description\": \"Information on laboratory test results.\"},\n",
    "    \"kenyaemr_etl_etl_patient_demographics\": {\"description\": \"Information on patient demographics..\"},\n",
    "    \"kenyaemr_etl_etl_patient_hiv_followup\": {\"description\": \"Information about routine visits from patients on HIV treatment.\"},\n",
    "    \"kenyaemr_etl_etl_patient_triage\": {\"description\": \"Information on patient vital signs, symptoms and complaints.\"},\n",
    "    \"kenyaemr_etl_etl_tb_screening\": {\"description\": \"Screening for tuberculosis in patients.\"},\n",
    "    \"openmrs_encounter_diagnosis\": {\"description\": \"Patient diagnoses.\"}\n",
    "}\n"
   ]
  },
  {
   "cell_type": "code",
   "execution_count": null,
   "id": "eb08bfda",
   "metadata": {},
   "outputs": [],
   "source": [
    "from langchain.chat_models import ChatOpenAI\n",
    "from langchain.prompts import ChatPromptTemplate, HumanMessagePromptTemplate\n",
    "import json\n",
    "\n",
    "llm = ChatOpenAI(model_name=\"gpt-3.5-turbo\", temperature=0)\n",
    "\n",
    "def build_table_selection_prompt():\n",
    "    human_template = \"\"\"\n",
    "Question: \"{question}\"\n",
    "\n",
    "Here are the patient tables and their descriptions:\n",
    "{table_descriptions}\n",
    "\n",
    "Return only the exact table names needed to answer the question, in JSON format like:\n",
    "[\"Table Name 1\", \"Table Name 2\"]\n",
    "\n",
    "Do not include columns, explanations, or anything else.\n",
    "\"\"\"\n",
    "    human_message = HumanMessagePromptTemplate.from_template(human_template)\n",
    "    prompt = ChatPromptTemplate.from_messages([human_message])\n",
    "    return prompt\n",
    "\n",
    "def get_relevant_tables(question, table_descriptions):\n",
    "    prompt = build_table_selection_prompt()\n",
    "    # Format with actual values\n",
    "    messages = prompt.format_prompt(\n",
    "        question=question,\n",
    "        table_descriptions=json.dumps(table_descriptions, indent=2)\n",
    "    ).to_messages()\n",
    "\n",
    "    # Send to LLM\n",
    "    response = llm(messages)\n",
    "    \n",
    "    try:\n",
    "        tables = json.loads(response.content)\n",
    "        tables = [t for t in tables if isinstance(t, str)]\n",
    "    except json.JSONDecodeError:\n",
    "        tables = []\n",
    "    return tables\n"
   ]
  },
  {
   "cell_type": "code",
   "execution_count": null,
   "id": "6a429903",
   "metadata": {},
   "outputs": [],
   "source": [
    "question = \"What was their last viral load result and date? Any history of elevated viral loads over 1000 copies/mL?\"\n",
    "relevant_tables = get_relevant_tables(question, table_descriptions)\n",
    "print(relevant_tables)"
   ]
  },
  {
   "cell_type": "code",
   "execution_count": null,
   "id": "a7c1f1f3",
   "metadata": {},
   "outputs": [],
   "source": [
    "filtered_tables = {k: v for k, v in table_descriptions.items() if k in relevant_tables}"
   ]
  },
  {
   "cell_type": "code",
   "execution_count": 57,
   "id": "9199d98e",
   "metadata": {},
   "outputs": [
    {
     "name": "stdout",
     "output_type": "stream",
     "text": [
      "{\n",
      "  \"Laboratory Testing Results\": [\n",
      "    {\n",
      "      \"Visit Date\": \"1 week ago\",\n",
      "      \"Lab test\": 2001197,\n",
      "      \"Urgency\": \"STAT\",\n",
      "      \"Order test name\": \"TB LAM (Lipoarabino-mannan) Test\"\n",
      "    },\n",
      "    {\n",
      "      \"Visit Date\": \"1 week ago\",\n",
      "      \"Lab test\": 162202,\n",
      "      \"Urgency\": \"STAT\",\n",
      "      \"Order test name\": \"GeneXpert MTB/RIF\"\n",
      "    }\n",
      "  ]\n",
      "}\n"
     ]
    }
   ],
   "source": [
    "conn = sqlite3.connect(\"../data/processed/site_database.sqlite\")\n",
    "# patient_json = patient_data_to_json(3277, conn, filtered_tables)\n",
    "# print(patient_json)\n",
    "\n",
    "patient_json = patient_data_to_json(\n",
    "    patient_id=9439,\n",
    "    conn=conn,\n",
    "    table_mappings=table_mappings,  # full metadata dict\n",
    "    tables_to_include=filtered_tables     # LLM-filtered tables\n",
    ")\n",
    "\n",
    "print(patient_json)"
   ]
  }
 ],
 "metadata": {
  "kernelspec": {
   "display_name": ".venv",
   "language": "python",
   "name": "python3"
  },
  "language_info": {
   "codemirror_mode": {
    "name": "ipython",
    "version": 3
   },
   "file_extension": ".py",
   "mimetype": "text/x-python",
   "name": "python",
   "nbconvert_exporter": "python",
   "pygments_lexer": "ipython3",
   "version": "3.12.1"
  }
 },
 "nbformat": 4,
 "nbformat_minor": 5
}
